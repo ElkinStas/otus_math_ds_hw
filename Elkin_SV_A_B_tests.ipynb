{
 "cells": [
  {
   "cell_type": "markdown",
   "metadata": {},
   "source": [
    "На любом языке программирования написать программу, реализующую разобранные на занятии критерии проверки гипотез о равенстве вероятностей и средних значений. В качестве ответа программа должна возвращать - значение статистики критерия, ответ на вопрос принимается или отвергается основная гипотеза на выбранном уровне значимости, Р-значение. "
   ]
  },
  {
   "cell_type": "code",
   "execution_count": 164,
   "metadata": {},
   "outputs": [],
   "source": [
    "from scipy.stats import *"
   ]
  },
  {
   "cell_type": "markdown",
   "metadata": {},
   "source": [
    "ttest_rel(x,y) - t-критерий для зависимых выборок.  \n",
    "ttest_ind(x,y) - t-критерий для независимых выборок.  \n",
    "wilcoxon(x,y) - критерий Уилкоксона (зависимые выборки)   \n",
    "mannwhitneyu(x, y, ...) - U-критерий Манна — Уитни (независимые выборки)  "
   ]
  },
  {
   "cell_type": "markdown",
   "metadata": {},
   "source": [
    "# Массивы для значений"
   ]
  },
  {
   "cell_type": "code",
   "execution_count": 204,
   "metadata": {},
   "outputs": [],
   "source": [
    "x= []\n",
    "yes = 1\n",
    "no = 0\n",
    "for i in range(0,175):\n",
    "            if i <= 3:\n",
    "                x.append(i)\n",
    "            else:\n",
    "                x.append(no)\n",
    "y= []\n",
    "for i in range(0,190):\n",
    "            if i <= 32:\n",
    "                y.append(i)\n",
    "            else:\n",
    "                y.append(no)"
   ]
  },
  {
   "cell_type": "code",
   "execution_count": 259,
   "metadata": {},
   "outputs": [],
   "source": [
    "x = [102.4, 100.0, 67.6, 65.9, 64.7, 39.6, 31.2]\n",
    "y = [48.1, 45.5, 41.7, 35.4, 29.1, 18.9, 58.3, 68.8, 71.3, 94.3]"
   ]
  },
  {
   "cell_type": "code",
   "execution_count": 260,
   "metadata": {},
   "outputs": [],
   "source": [
    "from collections import Counter\n",
    "z = sorted(x + y)\n",
    "G= Counter(z)\n"
   ]
  },
  {
   "cell_type": "markdown",
   "metadata": {},
   "source": [
    "# W-критерий\n"
   ]
  },
  {
   "cell_type": "code",
   "execution_count": 261,
   "metadata": {},
   "outputs": [
    {
     "name": "stdout",
     "output_type": "stream",
     "text": [
      "79.0\n"
     ]
    }
   ],
   "source": [
    "W =0. \n",
    "q=0.\n",
    "\n",
    "for i in G:\n",
    "    \n",
    "    if G[i] > 1:\n",
    "        q+=1\n",
    "        one= q+ G[i]-1 \n",
    "        two= (q + one)/G[i]\n",
    "        q += G[i]-1 \n",
    "        if i in y:\n",
    "            W+=two\n",
    "\n",
    "    else:\n",
    "        q+=1\n",
    "        if i in y:\n",
    "            W+=q\n",
    "\n",
    "print(W)"
   ]
  },
  {
   "cell_type": "markdown",
   "metadata": {},
   "source": [
    "# Мат ожидание"
   ]
  },
  {
   "cell_type": "code",
   "execution_count": 262,
   "metadata": {},
   "outputs": [],
   "source": [
    "M = len(y)/2*(len(y) + len(x)+ 1)"
   ]
  },
  {
   "cell_type": "code",
   "execution_count": 263,
   "metadata": {},
   "outputs": [
    {
     "data": {
      "text/plain": [
       "90.0"
      ]
     },
     "execution_count": 263,
     "metadata": {},
     "output_type": "execute_result"
    }
   ],
   "source": [
    "M"
   ]
  },
  {
   "cell_type": "markdown",
   "metadata": {},
   "source": [
    "# Дисперсия"
   ]
  },
  {
   "cell_type": "code",
   "execution_count": 264,
   "metadata": {},
   "outputs": [],
   "source": [
    "D = (len(x)*len(y))/12*(len(x) + len(y) +1)"
   ]
  },
  {
   "cell_type": "code",
   "execution_count": 265,
   "metadata": {},
   "outputs": [
    {
     "data": {
      "text/plain": [
       "105.0"
      ]
     },
     "execution_count": 265,
     "metadata": {},
     "output_type": "execute_result"
    }
   ],
   "source": [
    "D"
   ]
  },
  {
   "cell_type": "markdown",
   "metadata": {},
   "source": [
    "# Статистика критерия"
   ]
  },
  {
   "cell_type": "code",
   "execution_count": 266,
   "metadata": {},
   "outputs": [
    {
     "name": "stdout",
     "output_type": "stream",
     "text": [
      "-1.0734900802433864\n"
     ]
    }
   ],
   "source": [
    "import math\n",
    "Wcr=(W-M)/math.sqrt(D)\n",
    "print(Wcr)"
   ]
  },
  {
   "cell_type": "markdown",
   "metadata": {},
   "source": [
    "# P значение или z-оценка"
   ]
  },
  {
   "cell_type": "code",
   "execution_count": 267,
   "metadata": {},
   "outputs": [],
   "source": [
    "p_values = norm.sf(abs(Wcr))"
   ]
  },
  {
   "cell_type": "code",
   "execution_count": 268,
   "metadata": {},
   "outputs": [
    {
     "data": {
      "text/plain": [
       "0.14152564352594232"
      ]
     },
     "execution_count": 268,
     "metadata": {},
     "output_type": "execute_result"
    }
   ],
   "source": [
    "p_values"
   ]
  },
  {
   "cell_type": "markdown",
   "metadata": {},
   "source": [
    "# Итог"
   ]
  },
  {
   "cell_type": "code",
   "execution_count": 269,
   "metadata": {},
   "outputs": [
    {
     "name": "stdout",
     "output_type": "stream",
     "text": [
      "Принимаем основную\n"
     ]
    }
   ],
   "source": [
    "if  Wcr < 0 and Wcr > -1.65 and p_values >0.05:\n",
    "    print(\"Принимаем основную\")\n",
    "elif Wcr > 0 and Wcr < 1.65 and p_values >0.05:\n",
    "    print(\"Принимаем основную\")\n",
    "else:\n",
    "    print(\"принимаем в пользу альтернативной\")"
   ]
  },
  {
   "cell_type": "code",
   "execution_count": null,
   "metadata": {},
   "outputs": [],
   "source": []
  }
 ],
 "metadata": {
  "kernelspec": {
   "display_name": "Python 3",
   "language": "python",
   "name": "python3"
  },
  "language_info": {
   "codemirror_mode": {
    "name": "ipython",
    "version": 3
   },
   "file_extension": ".py",
   "mimetype": "text/x-python",
   "name": "python",
   "nbconvert_exporter": "python",
   "pygments_lexer": "ipython3",
   "version": "3.7.6"
  }
 },
 "nbformat": 4,
 "nbformat_minor": 4
}
