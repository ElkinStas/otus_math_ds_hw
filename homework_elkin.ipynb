{
 "cells": [
  {
   "cell_type": "markdown",
   "metadata": {},
   "source": [
    "Найти в интернете любую выборку объёма не менее 100 наблюдений, если вы будете делать программу для её обработки, не менее 20 наблюдений, если вы будете считать вручную. Напоминаю, что выборка - это серия независимых наблюдений одного и того же показателя (например, плотности населения для всех стран мира). По этой выборке (желательно программно, а не ручками, можно, например, в экселе) вычислить выборочное среднее, выборочную дисперсию, выборочную квантиль (по заданному пользователем уровню квантили). "
   ]
  },
  {
   "cell_type": "markdown",
   "metadata": {},
   "source": [
    "# Русская популяция\n"
   ]
  },
  {
   "cell_type": "code",
   "execution_count": 9,
   "metadata": {},
   "outputs": [],
   "source": [
    "import pandas as pd\n",
    "import numpy as np"
   ]
  },
  {
   "cell_type": "code",
   "execution_count": 10,
   "metadata": {},
   "outputs": [],
   "source": [
    "\n",
    "data = pd.read_csv('russia-population-2020-06-05.csv')"
   ]
  },
  {
   "cell_type": "code",
   "execution_count": 11,
   "metadata": {},
   "outputs": [
    {
     "data": {
      "text/html": [
       "<div>\n",
       "<style scoped>\n",
       "    .dataframe tbody tr th:only-of-type {\n",
       "        vertical-align: middle;\n",
       "    }\n",
       "\n",
       "    .dataframe tbody tr th {\n",
       "        vertical-align: top;\n",
       "    }\n",
       "\n",
       "    .dataframe thead th {\n",
       "        text-align: right;\n",
       "    }\n",
       "</style>\n",
       "<table border=\"1\" class=\"dataframe\">\n",
       "  <thead>\n",
       "    <tr style=\"text-align: right;\">\n",
       "      <th></th>\n",
       "      <th>date</th>\n",
       "      <th>Population</th>\n",
       "      <th>Annual Growth Rate</th>\n",
       "    </tr>\n",
       "  </thead>\n",
       "  <tbody>\n",
       "    <tr>\n",
       "      <th>0</th>\n",
       "      <td>1950-12-31</td>\n",
       "      <td>102798657</td>\n",
       "      <td>NaN</td>\n",
       "    </tr>\n",
       "    <tr>\n",
       "      <th>1</th>\n",
       "      <td>1951-12-31</td>\n",
       "      <td>104304693</td>\n",
       "      <td>1.47</td>\n",
       "    </tr>\n",
       "    <tr>\n",
       "      <th>2</th>\n",
       "      <td>1952-12-31</td>\n",
       "      <td>105967080</td>\n",
       "      <td>1.59</td>\n",
       "    </tr>\n",
       "    <tr>\n",
       "      <th>3</th>\n",
       "      <td>1953-12-31</td>\n",
       "      <td>107727318</td>\n",
       "      <td>1.66</td>\n",
       "    </tr>\n",
       "    <tr>\n",
       "      <th>4</th>\n",
       "      <td>1954-12-31</td>\n",
       "      <td>109536494</td>\n",
       "      <td>1.68</td>\n",
       "    </tr>\n",
       "    <tr>\n",
       "      <th>5</th>\n",
       "      <td>1955-12-31</td>\n",
       "      <td>111355300</td>\n",
       "      <td>1.66</td>\n",
       "    </tr>\n",
       "    <tr>\n",
       "      <th>6</th>\n",
       "      <td>1956-12-31</td>\n",
       "      <td>113154334</td>\n",
       "      <td>1.62</td>\n",
       "    </tr>\n",
       "    <tr>\n",
       "      <th>7</th>\n",
       "      <td>1957-12-31</td>\n",
       "      <td>114913779</td>\n",
       "      <td>1.55</td>\n",
       "    </tr>\n",
       "    <tr>\n",
       "      <th>8</th>\n",
       "      <td>1958-12-31</td>\n",
       "      <td>116622407</td>\n",
       "      <td>1.49</td>\n",
       "    </tr>\n",
       "    <tr>\n",
       "      <th>9</th>\n",
       "      <td>1959-12-31</td>\n",
       "      <td>118275877</td>\n",
       "      <td>1.42</td>\n",
       "    </tr>\n",
       "    <tr>\n",
       "      <th>10</th>\n",
       "      <td>1960-12-31</td>\n",
       "      <td>119871700</td>\n",
       "      <td>1.35</td>\n",
       "    </tr>\n",
       "    <tr>\n",
       "      <th>11</th>\n",
       "      <td>1961-12-31</td>\n",
       "      <td>121403892</td>\n",
       "      <td>1.28</td>\n",
       "    </tr>\n",
       "    <tr>\n",
       "      <th>12</th>\n",
       "      <td>1962-12-31</td>\n",
       "      <td>122858227</td>\n",
       "      <td>1.20</td>\n",
       "    </tr>\n",
       "    <tr>\n",
       "      <th>13</th>\n",
       "      <td>1963-12-31</td>\n",
       "      <td>124210252</td>\n",
       "      <td>1.10</td>\n",
       "    </tr>\n",
       "    <tr>\n",
       "      <th>14</th>\n",
       "      <td>1964-12-31</td>\n",
       "      <td>125430993</td>\n",
       "      <td>0.98</td>\n",
       "    </tr>\n",
       "    <tr>\n",
       "      <th>15</th>\n",
       "      <td>1965-12-31</td>\n",
       "      <td>126503736</td>\n",
       "      <td>0.86</td>\n",
       "    </tr>\n",
       "    <tr>\n",
       "      <th>16</th>\n",
       "      <td>1966-12-31</td>\n",
       "      <td>127417190</td>\n",
       "      <td>0.72</td>\n",
       "    </tr>\n",
       "    <tr>\n",
       "      <th>17</th>\n",
       "      <td>1967-12-31</td>\n",
       "      <td>128187396</td>\n",
       "      <td>0.60</td>\n",
       "    </tr>\n",
       "    <tr>\n",
       "      <th>18</th>\n",
       "      <td>1968-12-31</td>\n",
       "      <td>128859798</td>\n",
       "      <td>0.52</td>\n",
       "    </tr>\n",
       "    <tr>\n",
       "      <th>19</th>\n",
       "      <td>1969-12-31</td>\n",
       "      <td>129497501</td>\n",
       "      <td>0.49</td>\n",
       "    </tr>\n",
       "    <tr>\n",
       "      <th>20</th>\n",
       "      <td>1970-12-31</td>\n",
       "      <td>130148653</td>\n",
       "      <td>0.50</td>\n",
       "    </tr>\n",
       "    <tr>\n",
       "      <th>21</th>\n",
       "      <td>1971-12-31</td>\n",
       "      <td>130830719</td>\n",
       "      <td>0.52</td>\n",
       "    </tr>\n",
       "    <tr>\n",
       "      <th>22</th>\n",
       "      <td>1972-12-31</td>\n",
       "      <td>131539634</td>\n",
       "      <td>0.54</td>\n",
       "    </tr>\n",
       "    <tr>\n",
       "      <th>23</th>\n",
       "      <td>1973-12-31</td>\n",
       "      <td>132275731</td>\n",
       "      <td>0.56</td>\n",
       "    </tr>\n",
       "    <tr>\n",
       "      <th>24</th>\n",
       "      <td>1974-12-31</td>\n",
       "      <td>133032262</td>\n",
       "      <td>0.57</td>\n",
       "    </tr>\n",
       "    <tr>\n",
       "      <th>25</th>\n",
       "      <td>1975-12-31</td>\n",
       "      <td>133804858</td>\n",
       "      <td>0.58</td>\n",
       "    </tr>\n",
       "    <tr>\n",
       "      <th>26</th>\n",
       "      <td>1976-12-31</td>\n",
       "      <td>134596232</td>\n",
       "      <td>0.59</td>\n",
       "    </tr>\n",
       "    <tr>\n",
       "      <th>27</th>\n",
       "      <td>1977-12-31</td>\n",
       "      <td>135413334</td>\n",
       "      <td>0.61</td>\n",
       "    </tr>\n",
       "    <tr>\n",
       "      <th>28</th>\n",
       "      <td>1978-12-31</td>\n",
       "      <td>136259824</td>\n",
       "      <td>0.63</td>\n",
       "    </tr>\n",
       "    <tr>\n",
       "      <th>29</th>\n",
       "      <td>1979-12-31</td>\n",
       "      <td>137139388</td>\n",
       "      <td>0.65</td>\n",
       "    </tr>\n",
       "    <tr>\n",
       "      <th>...</th>\n",
       "      <td>...</td>\n",
       "      <td>...</td>\n",
       "      <td>...</td>\n",
       "    </tr>\n",
       "    <tr>\n",
       "      <th>41</th>\n",
       "      <td>1991-12-31</td>\n",
       "      <td>147995593</td>\n",
       "      <td>0.31</td>\n",
       "    </tr>\n",
       "    <tr>\n",
       "      <th>42</th>\n",
       "      <td>1992-12-31</td>\n",
       "      <td>148268581</td>\n",
       "      <td>0.18</td>\n",
       "    </tr>\n",
       "    <tr>\n",
       "      <th>43</th>\n",
       "      <td>1993-12-31</td>\n",
       "      <td>148373580</td>\n",
       "      <td>0.07</td>\n",
       "    </tr>\n",
       "    <tr>\n",
       "      <th>44</th>\n",
       "      <td>1994-12-31</td>\n",
       "      <td>148349441</td>\n",
       "      <td>-0.02</td>\n",
       "    </tr>\n",
       "    <tr>\n",
       "      <th>45</th>\n",
       "      <td>1995-12-31</td>\n",
       "      <td>148227466</td>\n",
       "      <td>-0.08</td>\n",
       "    </tr>\n",
       "    <tr>\n",
       "      <th>46</th>\n",
       "      <td>1996-12-31</td>\n",
       "      <td>148020847</td>\n",
       "      <td>-0.14</td>\n",
       "    </tr>\n",
       "    <tr>\n",
       "      <th>47</th>\n",
       "      <td>1997-12-31</td>\n",
       "      <td>147730019</td>\n",
       "      <td>-0.20</td>\n",
       "    </tr>\n",
       "    <tr>\n",
       "      <th>48</th>\n",
       "      <td>1998-12-31</td>\n",
       "      <td>147360604</td>\n",
       "      <td>-0.25</td>\n",
       "    </tr>\n",
       "    <tr>\n",
       "      <th>49</th>\n",
       "      <td>1999-12-31</td>\n",
       "      <td>146915915</td>\n",
       "      <td>-0.30</td>\n",
       "    </tr>\n",
       "    <tr>\n",
       "      <th>50</th>\n",
       "      <td>2000-12-31</td>\n",
       "      <td>146404903</td>\n",
       "      <td>-0.35</td>\n",
       "    </tr>\n",
       "    <tr>\n",
       "      <th>51</th>\n",
       "      <td>2001-12-31</td>\n",
       "      <td>145830721</td>\n",
       "      <td>-0.39</td>\n",
       "    </tr>\n",
       "    <tr>\n",
       "      <th>52</th>\n",
       "      <td>2002-12-31</td>\n",
       "      <td>145215700</td>\n",
       "      <td>-0.42</td>\n",
       "    </tr>\n",
       "    <tr>\n",
       "      <th>53</th>\n",
       "      <td>2003-12-31</td>\n",
       "      <td>144610882</td>\n",
       "      <td>-0.42</td>\n",
       "    </tr>\n",
       "    <tr>\n",
       "      <th>54</th>\n",
       "      <td>2004-12-31</td>\n",
       "      <td>144080643</td>\n",
       "      <td>-0.37</td>\n",
       "    </tr>\n",
       "    <tr>\n",
       "      <th>55</th>\n",
       "      <td>2005-12-31</td>\n",
       "      <td>143672116</td>\n",
       "      <td>-0.28</td>\n",
       "    </tr>\n",
       "    <tr>\n",
       "      <th>56</th>\n",
       "      <td>2006-12-31</td>\n",
       "      <td>143403256</td>\n",
       "      <td>-0.19</td>\n",
       "    </tr>\n",
       "    <tr>\n",
       "      <th>57</th>\n",
       "      <td>2007-12-31</td>\n",
       "      <td>143266212</td>\n",
       "      <td>-0.10</td>\n",
       "    </tr>\n",
       "    <tr>\n",
       "      <th>58</th>\n",
       "      <td>2008-12-31</td>\n",
       "      <td>143248764</td>\n",
       "      <td>-0.01</td>\n",
       "    </tr>\n",
       "    <tr>\n",
       "      <th>59</th>\n",
       "      <td>2009-12-31</td>\n",
       "      <td>143326913</td>\n",
       "      <td>0.05</td>\n",
       "    </tr>\n",
       "    <tr>\n",
       "      <th>60</th>\n",
       "      <td>2010-12-31</td>\n",
       "      <td>143479274</td>\n",
       "      <td>0.11</td>\n",
       "    </tr>\n",
       "    <tr>\n",
       "      <th>61</th>\n",
       "      <td>2011-12-31</td>\n",
       "      <td>143703025</td>\n",
       "      <td>0.16</td>\n",
       "    </tr>\n",
       "    <tr>\n",
       "      <th>62</th>\n",
       "      <td>2012-12-31</td>\n",
       "      <td>143993892</td>\n",
       "      <td>0.20</td>\n",
       "    </tr>\n",
       "    <tr>\n",
       "      <th>63</th>\n",
       "      <td>2013-12-31</td>\n",
       "      <td>144325449</td>\n",
       "      <td>0.23</td>\n",
       "    </tr>\n",
       "    <tr>\n",
       "      <th>64</th>\n",
       "      <td>2014-12-31</td>\n",
       "      <td>144664841</td>\n",
       "      <td>0.24</td>\n",
       "    </tr>\n",
       "    <tr>\n",
       "      <th>65</th>\n",
       "      <td>2015-12-31</td>\n",
       "      <td>144985057</td>\n",
       "      <td>0.22</td>\n",
       "    </tr>\n",
       "    <tr>\n",
       "      <th>66</th>\n",
       "      <td>2016-12-31</td>\n",
       "      <td>145275383</td>\n",
       "      <td>0.20</td>\n",
       "    </tr>\n",
       "    <tr>\n",
       "      <th>67</th>\n",
       "      <td>2017-12-31</td>\n",
       "      <td>145530082</td>\n",
       "      <td>0.18</td>\n",
       "    </tr>\n",
       "    <tr>\n",
       "      <th>68</th>\n",
       "      <td>2018-12-31</td>\n",
       "      <td>145734038</td>\n",
       "      <td>0.14</td>\n",
       "    </tr>\n",
       "    <tr>\n",
       "      <th>69</th>\n",
       "      <td>2019-12-31</td>\n",
       "      <td>145872256</td>\n",
       "      <td>0.09</td>\n",
       "    </tr>\n",
       "    <tr>\n",
       "      <th>70</th>\n",
       "      <td>2020-12-31</td>\n",
       "      <td>145934462</td>\n",
       "      <td>0.04</td>\n",
       "    </tr>\n",
       "  </tbody>\n",
       "</table>\n",
       "<p>71 rows × 3 columns</p>\n",
       "</div>"
      ],
      "text/plain": [
       "          date   Population   Annual Growth Rate\n",
       "0   1950-12-31    102798657                  NaN\n",
       "1   1951-12-31    104304693                 1.47\n",
       "2   1952-12-31    105967080                 1.59\n",
       "3   1953-12-31    107727318                 1.66\n",
       "4   1954-12-31    109536494                 1.68\n",
       "5   1955-12-31    111355300                 1.66\n",
       "6   1956-12-31    113154334                 1.62\n",
       "7   1957-12-31    114913779                 1.55\n",
       "8   1958-12-31    116622407                 1.49\n",
       "9   1959-12-31    118275877                 1.42\n",
       "10  1960-12-31    119871700                 1.35\n",
       "11  1961-12-31    121403892                 1.28\n",
       "12  1962-12-31    122858227                 1.20\n",
       "13  1963-12-31    124210252                 1.10\n",
       "14  1964-12-31    125430993                 0.98\n",
       "15  1965-12-31    126503736                 0.86\n",
       "16  1966-12-31    127417190                 0.72\n",
       "17  1967-12-31    128187396                 0.60\n",
       "18  1968-12-31    128859798                 0.52\n",
       "19  1969-12-31    129497501                 0.49\n",
       "20  1970-12-31    130148653                 0.50\n",
       "21  1971-12-31    130830719                 0.52\n",
       "22  1972-12-31    131539634                 0.54\n",
       "23  1973-12-31    132275731                 0.56\n",
       "24  1974-12-31    133032262                 0.57\n",
       "25  1975-12-31    133804858                 0.58\n",
       "26  1976-12-31    134596232                 0.59\n",
       "27  1977-12-31    135413334                 0.61\n",
       "28  1978-12-31    136259824                 0.63\n",
       "29  1979-12-31    137139388                 0.65\n",
       "..         ...          ...                  ...\n",
       "41  1991-12-31    147995593                 0.31\n",
       "42  1992-12-31    148268581                 0.18\n",
       "43  1993-12-31    148373580                 0.07\n",
       "44  1994-12-31    148349441                -0.02\n",
       "45  1995-12-31    148227466                -0.08\n",
       "46  1996-12-31    148020847                -0.14\n",
       "47  1997-12-31    147730019                -0.20\n",
       "48  1998-12-31    147360604                -0.25\n",
       "49  1999-12-31    146915915                -0.30\n",
       "50  2000-12-31    146404903                -0.35\n",
       "51  2001-12-31    145830721                -0.39\n",
       "52  2002-12-31    145215700                -0.42\n",
       "53  2003-12-31    144610882                -0.42\n",
       "54  2004-12-31    144080643                -0.37\n",
       "55  2005-12-31    143672116                -0.28\n",
       "56  2006-12-31    143403256                -0.19\n",
       "57  2007-12-31    143266212                -0.10\n",
       "58  2008-12-31    143248764                -0.01\n",
       "59  2009-12-31    143326913                 0.05\n",
       "60  2010-12-31    143479274                 0.11\n",
       "61  2011-12-31    143703025                 0.16\n",
       "62  2012-12-31    143993892                 0.20\n",
       "63  2013-12-31    144325449                 0.23\n",
       "64  2014-12-31    144664841                 0.24\n",
       "65  2015-12-31    144985057                 0.22\n",
       "66  2016-12-31    145275383                 0.20\n",
       "67  2017-12-31    145530082                 0.18\n",
       "68  2018-12-31    145734038                 0.14\n",
       "69  2019-12-31    145872256                 0.09\n",
       "70  2020-12-31    145934462                 0.04\n",
       "\n",
       "[71 rows x 3 columns]"
      ]
     },
     "execution_count": 11,
     "metadata": {},
     "output_type": "execute_result"
    }
   ],
   "source": [
    "data"
   ]
  },
  {
   "cell_type": "code",
   "execution_count": 12,
   "metadata": {},
   "outputs": [],
   "source": [
    "import scipy"
   ]
  },
  {
   "cell_type": "code",
   "execution_count": 13,
   "metadata": {},
   "outputs": [],
   "source": [
    "from scipy import stats"
   ]
  },
  {
   "cell_type": "code",
   "execution_count": 14,
   "metadata": {},
   "outputs": [],
   "source": [
    "import seaborn as sns\n",
    "from seaborn import distplot"
   ]
  },
  {
   "cell_type": "code",
   "execution_count": 15,
   "metadata": {},
   "outputs": [
    {
     "data": {
      "text/plain": [
       "date                    object\n",
       " Population              int64\n",
       " Annual Growth Rate    float64\n",
       "dtype: object"
      ]
     },
     "execution_count": 15,
     "metadata": {},
     "output_type": "execute_result"
    }
   ],
   "source": [
    "data.dtypes"
   ]
  },
  {
   "cell_type": "code",
   "execution_count": 16,
   "metadata": {},
   "outputs": [],
   "source": [
    "data.date = data.date.apply(pd.to_datetime)"
   ]
  },
  {
   "cell_type": "code",
   "execution_count": 17,
   "metadata": {},
   "outputs": [
    {
     "data": {
      "text/plain": [
       "date                   datetime64[ns]\n",
       " Population                     int64\n",
       " Annual Growth Rate           float64\n",
       "dtype: object"
      ]
     },
     "execution_count": 17,
     "metadata": {},
     "output_type": "execute_result"
    }
   ],
   "source": [
    "data.dtypes"
   ]
  },
  {
   "cell_type": "code",
   "execution_count": 18,
   "metadata": {},
   "outputs": [
    {
     "data": {
      "text/plain": [
       "AndersonResult(statistic=27.112150471182957, critical_values=array([0.914, 1.069, 1.33 , 1.593, 1.941]), significance_level=array([15. , 10. ,  5. ,  2.5,  1. ]))"
      ]
     },
     "execution_count": 18,
     "metadata": {},
     "output_type": "execute_result"
    }
   ],
   "source": [
    "stats.anderson(data[' Population'], dist = 'expon')"
   ]
  },
  {
   "cell_type": "code",
   "execution_count": 19,
   "metadata": {},
   "outputs": [
    {
     "data": {
      "text/plain": [
       "0     102798657\n",
       "1     104304693\n",
       "2     105967080\n",
       "3     107727318\n",
       "4     109536494\n",
       "5     111355300\n",
       "6     113154334\n",
       "7     114913779\n",
       "8     116622407\n",
       "9     118275877\n",
       "10    119871700\n",
       "11    121403892\n",
       "12    122858227\n",
       "13    124210252\n",
       "14    125430993\n",
       "15    126503736\n",
       "16    127417190\n",
       "17    128187396\n",
       "18    128859798\n",
       "19    129497501\n",
       "20    130148653\n",
       "21    130830719\n",
       "22    131539634\n",
       "23    132275731\n",
       "24    133032262\n",
       "25    133804858\n",
       "26    134596232\n",
       "27    135413334\n",
       "28    136259824\n",
       "29    137139388\n",
       "        ...    \n",
       "41    147995593\n",
       "42    148268581\n",
       "43    148373580\n",
       "44    148349441\n",
       "45    148227466\n",
       "46    148020847\n",
       "47    147730019\n",
       "48    147360604\n",
       "49    146915915\n",
       "50    146404903\n",
       "51    145830721\n",
       "52    145215700\n",
       "53    144610882\n",
       "54    144080643\n",
       "55    143672116\n",
       "56    143403256\n",
       "57    143266212\n",
       "58    143248764\n",
       "59    143326913\n",
       "60    143479274\n",
       "61    143703025\n",
       "62    143993892\n",
       "63    144325449\n",
       "64    144664841\n",
       "65    144985057\n",
       "66    145275383\n",
       "67    145530082\n",
       "68    145734038\n",
       "69    145872256\n",
       "70    145934462\n",
       "Name:  Population, Length: 71, dtype: int64"
      ]
     },
     "execution_count": 19,
     "metadata": {},
     "output_type": "execute_result"
    }
   ],
   "source": [
    "data[' Population']"
   ]
  },
  {
   "cell_type": "code",
   "execution_count": 20,
   "metadata": {},
   "outputs": [
    {
     "data": {
      "image/png": "[encoded data removed]",
      "text/plain": [
       "<Figure size 432x288 with 1 Axes>"
      ]
     },
     "metadata": {
      "needs_background": "light"
     },
     "output_type": "display_data"
    }
   ],
   "source": [
    "ax = sns.distplot(data[' Population'], bins = 70, kde = 'True')"
   ]
  },
  {
   "cell_type": "markdown",
   "metadata": {},
   "source": [
    "# Выборочное среднее"
   ]
  },
  {
   "cell_type": "code",
   "execution_count": 24,
   "metadata": {},
   "outputs": [
    {
     "data": {
      "text/plain": [
       "135690247.35211268"
      ]
     },
     "execution_count": 24,
     "metadata": {},
     "output_type": "execute_result"
    }
   ],
   "source": [
    "scipy.stats.tmean(data[' Population'])"
   ]
  },
  {
   "cell_type": "markdown",
   "metadata": {},
   "source": [
    "# Выборочная дисперсия"
   ]
  },
  {
   "cell_type": "code",
   "execution_count": 27,
   "metadata": {},
   "outputs": [
    {
     "data": {
      "text/plain": [
       "165422575580974.2"
      ]
     },
     "execution_count": 27,
     "metadata": {},
     "output_type": "execute_result"
    }
   ],
   "source": [
    "scipy.stats.tvar(data[' Population'])"
   ]
  },
  {
   "cell_type": "markdown",
   "metadata": {},
   "source": [
    "# Квантиль"
   ]
  },
  {
   "cell_type": "code",
   "execution_count": 1,
   "metadata": {},
   "outputs": [
    {
     "ename": "NameError",
     "evalue": "name 'np' is not defined",
     "output_type": "error",
     "traceback": [
      "\u001b[1;31m---------------------------------------------------------------------------\u001b[0m",
      "\u001b[1;31mNameError\u001b[0m                                 Traceback (most recent call last)",
      "\u001b[1;32m<ipython-input-1-4a57929fd504>\u001b[0m in \u001b[0;36m<module>\u001b[1;34m()\u001b[0m\n\u001b[1;32m----> 1\u001b[1;33m \u001b[0mnp\u001b[0m\u001b[1;33m.\u001b[0m\u001b[0mquantile\u001b[0m\u001b[1;33m(\u001b[0m\u001b[0mdata\u001b[0m\u001b[1;33m[\u001b[0m\u001b[1;34m' Population'\u001b[0m\u001b[1;33m]\u001b[0m\u001b[1;33m,\u001b[0m \u001b[1;36m.60\u001b[0m\u001b[1;33m)\u001b[0m\u001b[1;33m\u001b[0m\u001b[0m\n\u001b[0m",
      "\u001b[1;31mNameError\u001b[0m: name 'np' is not defined"
     ]
    }
   ],
   "source": [
    "np.quantile(data[' Population'], .60)"
   ]
  },
  {
   "cell_type": "code",
   "execution_count": null,
   "metadata": {},
   "outputs": [],
   "source": []
  }
 ],
 "metadata": {
  "kernelspec": {
   "display_name": "Python 2",
   "language": "python",
   "name": "python2"
  },
  "language_info": {
   "codemirror_mode": {
    "name": "ipython",
    "version": 2
   },
   "file_extension": ".py",
   "mimetype": "text/x-python",
   "name": "python",
   "nbconvert_exporter": "python",
   "pygments_lexer": "ipython2",
   "version": "2.7.16"
  }
 },
 "nbformat": 4,
 "nbformat_minor": 2
}
